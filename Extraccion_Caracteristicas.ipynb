{
 "cells": [
  {
   "cell_type": "markdown",
   "metadata": {},
   "source": [
    "# Proyecto Bimestral: Sistema de Recuperación de Información basado en Imágenes\n",
    "Nombres:\n",
    "Cesar Duque\n",
    "Geovanny Luna\n",
    "\n",
    "## 1. Introducción\n",
    "El objetivo de este trabajo es diseñar y desarrollar una máquina de búsqueda que permita a los usuarios realizar consultas utilizando imágenes en lugar de texto. Este sistema debe ser capaz de encontrar imágenes similares dentro de una base de datos dada. El proyecto se dividirá en varias fases, que se describen a continuación.\n",
    "\n",
    "## 2. Fases del Proyecto\n",
    "\n",
    "### 2.1. Adquisición de Datos\n",
    "**Objetivo:** Obtener y preparar el dataset Caltech101.  \n",
    "**Tareas:**\n",
    "- Descargar el dataset.\n",
    "- Descomprimir y organizar los archivos.\n",
    "\n"
   ]
  },
  {
   "cell_type": "markdown",
   "metadata": {},
   "source": [
    "Agregamos las librerias"
   ]
  },
  {
   "cell_type": "code",
   "execution_count": 1,
   "metadata": {},
   "outputs": [],
   "source": [
    "import tensorflow as tf\n",
    "import tensorflow_datasets as tfds\n",
    "import matplotlib.pyplot as plt\n",
    "import numpy as np"
   ]
  },
  {
   "cell_type": "markdown",
   "metadata": {},
   "source": [
    "Descargamos el dataset para guardar el train en train_dataset y la data de test en test_dataset y tambien informacion de la data en dataset_info"
   ]
  },
  {
   "cell_type": "code",
   "execution_count": 2,
   "metadata": {},
   "outputs": [
    {
     "name": "stdout",
     "output_type": "stream",
     "text": [
      "\u001b[1mDownloading and preparing dataset Unknown size (download: Unknown size, generated: Unknown size, total: Unknown size) to C:/Users/cesar/Downloads/tensorflow_datasets\\caltech101\\3.0.2...\u001b[0m\n"
     ]
    },
    {
     "data": {
      "application/vnd.jupyter.widget-view+json": {
       "model_id": "d22e76fa6a3a49808026be3544d33bad",
       "version_major": 2,
       "version_minor": 0
      },
      "text/plain": [
       "Dl Completed...: 0 url [00:00, ? url/s]"
      ]
     },
     "metadata": {},
     "output_type": "display_data"
    },
    {
     "data": {
      "application/vnd.jupyter.widget-view+json": {
       "model_id": "0ce0c4871bac443ba6b2a75584312223",
       "version_major": 2,
       "version_minor": 0
      },
      "text/plain": [
       "Dl Size...: 0 MiB [00:00, ? MiB/s]"
      ]
     },
     "metadata": {},
     "output_type": "display_data"
    },
    {
     "data": {
      "application/vnd.jupyter.widget-view+json": {
       "model_id": "70d4b9540018414ea62db1327c10e8ed",
       "version_major": 2,
       "version_minor": 0
      },
      "text/plain": [
       "Extraction completed...: 0 file [00:00, ? file/s]"
      ]
     },
     "metadata": {},
     "output_type": "display_data"
    },
    {
     "data": {
      "application/vnd.jupyter.widget-view+json": {
       "model_id": "950bc6806ceb473b852a02f56d7683f6",
       "version_major": 2,
       "version_minor": 0
      },
      "text/plain": [
       "Extraction completed...: 0 file [00:00, ? file/s]"
      ]
     },
     "metadata": {},
     "output_type": "display_data"
    },
    {
     "data": {
      "application/vnd.jupyter.widget-view+json": {
       "model_id": "450c24a586e24af99f5bba338b3d704d",
       "version_major": 2,
       "version_minor": 0
      },
      "text/plain": [
       "Generating splits...:   0%|          | 0/2 [00:00<?, ? splits/s]"
      ]
     },
     "metadata": {},
     "output_type": "display_data"
    },
    {
     "data": {
      "application/vnd.jupyter.widget-view+json": {
       "model_id": "e3dd2681051c4ea38c78e3aafb2b32d3",
       "version_major": 2,
       "version_minor": 0
      },
      "text/plain": [
       "Generating train examples...: 0 examples [00:00, ? examples/s]"
      ]
     },
     "metadata": {},
     "output_type": "display_data"
    },
    {
     "data": {
      "application/vnd.jupyter.widget-view+json": {
       "model_id": "e44604b83d0d4185ab9de49cdc6e1c2b",
       "version_major": 2,
       "version_minor": 0
      },
      "text/plain": [
       "Shuffling C:\\Users\\cesar\\Downloads\\tensorflow_datasets\\caltech101\\incomplete.5QWXQM_3.0.2\\caltech101-train.tfr…"
      ]
     },
     "metadata": {},
     "output_type": "display_data"
    },
    {
     "data": {
      "application/vnd.jupyter.widget-view+json": {
       "model_id": "72fea263a7294f5d8b5dd4ced27c03e3",
       "version_major": 2,
       "version_minor": 0
      },
      "text/plain": [
       "Generating test examples...: 0 examples [00:00, ? examples/s]"
      ]
     },
     "metadata": {},
     "output_type": "display_data"
    },
    {
     "data": {
      "application/vnd.jupyter.widget-view+json": {
       "model_id": "b0126e4e6a644aac8b859d5a62b508f9",
       "version_major": 2,
       "version_minor": 0
      },
      "text/plain": [
       "Shuffling C:\\Users\\cesar\\Downloads\\tensorflow_datasets\\caltech101\\incomplete.5QWXQM_3.0.2\\caltech101-test.tfre…"
      ]
     },
     "metadata": {},
     "output_type": "display_data"
    },
    {
     "name": "stdout",
     "output_type": "stream",
     "text": [
      "\u001b[1mDataset caltech101 downloaded and prepared to C:/Users/cesar/Downloads/tensorflow_datasets\\caltech101\\3.0.2. Subsequent calls will reuse this data.\u001b[0m\n"
     ]
    }
   ],
   "source": [
    "(train_dataset, test_dataset), dataset_info = tfds.load(\n",
    "    name='caltech101',\n",
    "    split=['train', 'test'],\n",
    "    with_info=True,\n",
    "    as_supervised=True,\n",
    "    data_dir='C:/Users/cesar/Downloads/tensorflow_datasets',\n",
    "    download=False\n",
    ")"
   ]
  },
  {
   "cell_type": "markdown",
   "metadata": {},
   "source": [
    "### 2.2. Preprocesamiento\n",
    "**Objetivo:** Preparar los datos para su análisis.  \n",
    "**Tareas:**\n",
    "- Usar técnicas de preprocesamiento de imágenes, como normalización, reducción de tamaño, o eliminación de ruido.\n",
    "- Documentar cada paso del preprocesamiento.\n",
    "\n",
    "### 2.3. Extracción de Características\n",
    "**Objetivo:** Extraer las características de las imágenes en una forma que los algoritmos puedan procesar.  \n",
    "**Tareas:**\n",
    "- Utilizar un modelo de red neuronal convolucional (CNN) para extraer características de las imágenes.\n",
    "- Entrenar un modelo desde cero o utilizar un modelo preentrenado y aplicar transfer learning.\n",
    "- Documentar los métodos y resultados obtenidos.\n",
    "\n",
    "### 2.4. Indexación\n",
    "**Objetivo:** Crear un índice que permita búsquedas eficientes.  \n",
    "**Tareas:**\n",
    "- Desarrollar un sistema para indexar las características extraídas de las imágenes y permitir la búsqueda eficiente de imágenes similares.\n",
    "- Considerar técnicas como k-NN o índices especializados como KD-Trees o LSH (Locality-Sensitive Hashing).\n",
    "- Documentar el proceso de construcción del índice.\n",
    "\n",
    "### 2.5. Diseño del Motor de Búsqueda\n",
    "**Objetivo:** Implementar la funcionalidad de búsqueda.  \n",
    "**Tareas:**\n",
    "- Desarrollar la lógica para procesar consultas de usuarios a partir de imágenes.\n",
    "- Desarrollar un algoritmo de ranking para ordenar los resultados.\n",
    "- Documentar la arquitectura y los algoritmos utilizados.\n",
    "\n",
    "### 2.6. Evaluación del Sistema\n",
    "**Objetivo:** Medir la efectividad del sistema.  \n",
    "**Tareas:**\n",
    "- Definir un conjunto de métricas de evaluación (precisión, recall, F1-score).\n",
    "- Definir un benchmark para evaluación del sistema.\n",
    "- Comparar el rendimiento de diferentes configuraciones del sistema.\n",
    "- Documentar los resultados y análisis.\n",
    "\n",
    "### 2.7. Interfaz Web de Usuario\n",
    "**Objetivo:** Crear una interfaz para interactuar con el sistema.  \n",
    "**Tareas:**\n",
    "- Diseñar una interfaz web donde los usuarios puedan subir una imagen y recibir resultados con imágenes similares.\n",
    "- Mostrar los resultados de búsqueda de manera clara y ordenada.\n",
    "- La interfaz debe ser intuitiva y facilitar la interacción con el sistema.\n",
    "- Documentar el diseño y funcionalidades de la interfaz.\n",
    "\n",
    "## 3. Entrega Final\n",
    "- **Documentación Completa:** Incluyendo los procesos, decisiones tomadas, y resultados de cada fase.\n",
    "- **Código Fuente:** Organizado y bien comentado.\n",
    "- **Informe de Evaluación:** Análisis detallado de la evaluación del sistema.\n",
    "- **Demostración del Sistema:** Presentación funcional del sistema a través de la interfaz web\n"
   ]
  }
 ],
 "metadata": {
  "kernelspec": {
   "display_name": "Python 3",
   "language": "python",
   "name": "python3"
  },
  "language_info": {
   "codemirror_mode": {
    "name": "ipython",
    "version": 3
   },
   "file_extension": ".py",
   "mimetype": "text/x-python",
   "name": "python",
   "nbconvert_exporter": "python",
   "pygments_lexer": "ipython3",
   "version": "3.12.4"
  }
 },
 "nbformat": 4,
 "nbformat_minor": 2
}
